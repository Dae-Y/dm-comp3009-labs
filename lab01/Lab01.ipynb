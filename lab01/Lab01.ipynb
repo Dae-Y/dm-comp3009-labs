{
 "cells": [
  {
   "cell_type": "markdown",
   "id": "c453b442-972d-4d19-9de3-ba0b95a3ecd9",
   "metadata": {},
   "source": [
    "# COMP3009 Data Mining - Lab 1: Environment Preparation and Python Refresher\n",
    "\n",
    "In this lab, you'll set up your development environment and refresh key Python skills needed for the practical components of this unit.\n",
    "\n",
    "The objective is to ensure you can write, execute, and manage Python code in a professional environment, with a focus on supporting data mining workflows.\n",
    "\n",
    "## You'll:\n",
    "- Set up and activate a Python environment\n",
    "- Install essential libraries such as pandas, numpy, and matplotlib\n",
    "- Launch and use Jupyter Notebooks for interactive coding and experimentation\n",
    "- Refresh core Python skills including data handling and basic visualisation\n",
    "\n",
    "We have three practices"
   ]
  },
  {
   "cell_type": "markdown",
   "id": "19f41cbb-3910-43e0-8e1a-84d6b91f5bbe",
   "metadata": {
    "tags": []
   },
   "source": [
    "# **Section 1: Python Setup for This Unit**\n",
    "\n",
    "In this unit, we will use Python throughout the semester for data processing, analysis, and implementing mining techniques such as classification, clustering, and association rule learning.\n",
    "\n",
    "You have two options for working with Python:\n",
    "- Option 1: Google Colab (Recommended for Most Students)\n",
    "- Option 2: Set Up Python on Your Own Computer\n",
    "\n",
    "### **Option 1: Google Colab**\n",
    "- No installation required — runs entirely in your web browser\n",
    "- Built-in support for Python and many common data science libraries\n",
    "- Saves work to your Google Drive\n",
    "- Ideal for beginners or anyone using shared/lab computers\n",
    "\n",
    "### To get started with Colab:\n",
    "1. Visit https://colab.research.google.com\n",
    "2. Sign in with your Google account\n",
    "3. Choose one of the following options:\n",
    "    - Click \"New Notebook\" to create a blank notebook\n",
    "    - OR select the \"Upload\" tab to open an existing .ipynb file from:\n",
    "        - Your local machine\n",
    "        - Google Drive\n",
    "        - GitHub\n",
    "4. Colab supports .ipynb files (Jupyter Notebooks), so you can easily open or share your work."
   ]
  },
  {
   "cell_type": "markdown",
   "id": "39b88818-6137-47e8-9007-fe969e6f5305",
   "metadata": {},
   "source": [
    "### **Option 2: Set Up Python on Your Own Computer**\n",
    "This option gives you full control over your Python environment. You’ll install Anaconda (Python + data science libraries), then connect it with an editor like VS Code, PyCharm or Jupyter Notebook for convenient coding.\n",
    "\n",
    "**Anaconda** is a free distribution of Python that makes it easy to manage:\n",
    "\n",
    "- Data science libraries (e.g. NumPy, pandas, matplotlib)\n",
    "- Machine learning frameworks (e.g. scikit-learn, PyTorch)\n",
    "- Package versions and environments (via `conda`)\n",
    "- Works on Windows, macOS, and Linux\n",
    "\n",
    "#### 2.1 To get start with Anaconda:\n",
    "1. Download Anaconda: https://www.anaconda.com/products/distribution\n",
    "2. Download the installer for your OS (Windows/macOS/Linux)\n",
    "3. Follow the installation instructions (default settings are fine)\n",
    "4. Open Anaconda Prompt (Windows) or Terminal (macOS/Linux), run to create a new environment:\n",
    "`\n",
    "conda create -n env_name python=3.x\n",
    "`\n",
    "5. Activate the Environment\n",
    "`\n",
    "conda activate env_name\n",
    "`\n",
    "    - After activation, your terminal prompt will look like:\n",
    "    `\n",
    "    (env_name) yourname@yourmachine:~$\n",
    "    `\n",
    "6. Install Packages into the Environment\n",
    "    For example: Install a core Python library - Numpy:\n",
    "    `\n",
    "    conda install numpy  \n",
    "    `\n",
    "\n",
    "    - Most Python packages follow this naming convention, but not all. For example:\n",
    "    - For OpenCV (an important package for computer vision), the actual conda install command is:\n",
    "    `\n",
    "    conda install -c conda-forge opencv\n",
    "    `\n",
    "    \n",
    "    - It’s always a good idea to:\n",
    "        - Visit the official documentation or website of the package you want to install.\n",
    "        - Search for installation instructions — they’ll usually tell you the exact command to use with conda or pip.\n",
    "\n",
    "\n",
    "#### 2.2 Working Interactively with Python\n",
    "Once your Conda environment is activated and the necessary packages are installed, you are ready to begin working interactively with Python code. In this unit, you have two primary options for doing so: Jupyter Notebook and a code editor (such as VS Code or PyCharm).\n",
    "#### 2.2.1. Connect Anaconda to Jupyter notebook:\n",
    "When you install Anaconda, it automatically comes with Jupyter Notebook — a popular web-based interactive coding environment.\n",
    "- Step 1: Open your terminal or Anaconda Prompt\n",
    "- Step 2: Activate your conda environment\n",
    "- Step 3: Launch Jupyter Notebook:\n",
    "`\n",
    "(env_name) yourname@yourmachine:~$ jupyter notebook\n",
    "`\n",
    "\n",
    "#### 2.2.2. Connect Anaconda to an Editor (VS Code or PyCharm):\n",
    "- Download VS Code from: https://code.visualstudio.com\n",
    "- Download PyCharm: https://www.jetbrains.com/pycharm/download\n",
    "- Anaconda environments can be connected to these editors to enable consistent package management. \n",
    "- However, this integration does require a few setup steps.\n",
    "- You will need to follow some initial setup instructions to properly link Anaconda with the editor of your choice. For up-to-date guides, please refer to:\n",
    "    - https://www.anaconda.com/docs/main\n",
    "    - https://code.visualstudio.com/docs/python/environments\n",
    "    - https://www.jetbrains.com/help/pycharm/conda-support-creating-conda-virtual-environment.html"
   ]
  },
  {
   "cell_type": "markdown",
   "id": "1f41dd53-e0f7-4858-80a8-5ea75e914eef",
   "metadata": {},
   "source": [
    "# Section 2: Python Refresher (for Data Mining)\n",
    "\n",
    "In this task, you will load and inspect the `bank.csv` dataset, which contains demographic and financial attributes of clients. This is a preliminary step before performing any data mining techniques.\n",
    "\n",
    "### 1. Open a .csv file\n",
    "The first step in working with any dataset is to load it into your Python environment. We'll use `pandas`, a powerful library for data manipulation and analysis.\n",
    "\n",
    "In this example, we'll open the bank.csv file using `pandas.read_csv()`."
   ]
  },
  {
   "cell_type": "code",
   "id": "b23c4730-9a15-4217-aa72-fdc68dc416c2",
   "metadata": {
    "jupyter": {
     "is_executing": true
    }
   },
   "source": [
    "import pandas as pd\n",
    "\n",
    "# Load the dataset into a DataFrame\n",
    "df = pd.read_csv(\"bank.csv\")\n",
    "\n",
    "# Display the first few rows\n",
    "print(df.head())"
   ],
   "outputs": [],
   "execution_count": null
  },
  {
   "cell_type": "markdown",
   "id": "32eec41e-5517-4fbe-ba01-c0920b9c2995",
   "metadata": {},
   "source": [
    "---\n",
    "Alternatively, you can load the dataset directly from a web `URL`.\n",
    "This method is especially useful when working in Google Colab or sharing code that others can run without needing to upload files manually."
   ]
  },
  {
   "cell_type": "code",
   "execution_count": 18,
   "id": "0e265455-461a-4d10-97f8-8d7aa3fd869b",
   "metadata": {},
   "outputs": [
    {
     "name": "stdout",
     "output_type": "stream",
     "text": [
      "        id  age     sex      region   income married  children  car save_act  \\\n",
      "0  ID12101   48  FEMALE  INNER_CITY  17546.0      NO         1   NO       NO   \n",
      "1  ID12102   40    MALE        TOWN  30085.1     YES         3  YES       NO   \n",
      "2  ID12103   51  FEMALE  INNER_CITY  16575.4     YES         0  YES      YES   \n",
      "3  ID12104   23  FEMALE        TOWN  20375.4     YES         3   NO       NO   \n",
      "4  ID12105   57  FEMALE       RURAL  50576.3     YES         0   NO      YES   \n",
      "\n",
      "  current_act mortgage  pep  \n",
      "0          NO       NO  YES  \n",
      "1         YES      YES   NO  \n",
      "2         YES       NO   NO  \n",
      "3         YES       NO   NO  \n",
      "4          NO       NO   NO  \n"
     ]
    }
   ],
   "source": [
    "url = \"https://raw.githubusercontent.com/YANDA-SHAO/COMP3009/refs/heads/main/bank.csv\"\n",
    "df = pd.read_csv(url)\n",
    "print(df.head())"
   ]
  },
  {
   "cell_type": "markdown",
   "id": "9920551a-bc04-4107-8cdf-a55c26d95d0b",
   "metadata": {},
   "source": [
    "### 2. Check and Explore the Dataset\n",
    "\n",
    "Now that you've loaded the dataset into a DataFrame, it's time to inspect it. This step helps you understand the shape, data types, and whether any cleaning or transformation might be needed later."
   ]
  },
  {
   "cell_type": "code",
   "execution_count": 42,
   "id": "d746cf0b-b244-45a5-b0b0-b14299b1a978",
   "metadata": {},
   "outputs": [],
   "source": [
    "# Write your code\n",
    "# View the First 5 Rows\n",
    "\n",
    "\n",
    "# Get the Shape of the Dataset\n",
    "\n",
    "\n",
    "# Check the Column Names and Data Types\n",
    "\n",
    "\n",
    "# Check for Missing Values\n",
    "\n",
    "\n",
    "# Summary Statistics (Numerical Columns)\n"
   ]
  },
  {
   "cell_type": "markdown",
   "id": "3657ef71-e856-403d-a415-ca767860cae4",
   "metadata": {},
   "source": [
    "### 3. Column Access and Filtering\n",
    "\n",
    "Accessing and filtering data is a fundamental skill for exploring and preparing datasets in data mining. Below are the most common patterns using `pandas`."
   ]
  },
  {
   "cell_type": "code",
   "execution_count": 43,
   "id": "95b44e53-f5c4-4611-81e0-02303713cb67",
   "metadata": {},
   "outputs": [],
   "source": [
    "# Access a single column (returns a Series)\n"
   ]
  },
  {
   "cell_type": "code",
   "execution_count": 44,
   "id": "793bd270-3cb2-4bd2-82c0-39706b0557b8",
   "metadata": {},
   "outputs": [],
   "source": [
    "# Access multiple columns (returns a DataFrame)\n"
   ]
  },
  {
   "cell_type": "code",
   "execution_count": 45,
   "id": "e00761e7-7502-4f9b-8ca6-3add31864251",
   "metadata": {},
   "outputs": [],
   "source": [
    "# Filtering Rows with Conditions\n",
    "\n",
    "# Clients older than 50\n",
    "\n",
    "\n",
    "# Clients from the 'TOWN' region\n",
    "\n",
    "\n",
    "# Clients with income greater than 30,000 **and** who are married\n",
    "\n",
    "\n",
    "# Clients who are either from INNER_CITY **or** have a mortgage\n"
   ]
  },
  {
   "cell_type": "markdown",
   "id": "fa1b7f37-1481-4bf7-9685-71b34ed720f6",
   "metadata": {},
   "source": [
    "# Section 3: Visualise the Dataset\n",
    "\n",
    "Now that you've inspected the raw values, let’s use visualisation to better understand the distribution of features and spot patterns that might be relevant to data mining. The most popular tools Used:\n",
    "- matplotlib.pyplot: for basic charts\n",
    "- seaborn: for cleaner and more informative plots (optional)"
   ]
  },
  {
   "cell_type": "code",
   "execution_count": 34,
   "id": "1e1d092f-4429-4adc-9936-736bcbd8d3bb",
   "metadata": {},
   "outputs": [],
   "source": [
    "import matplotlib.pyplot as plt\n",
    "import seaborn as sns"
   ]
  },
  {
   "cell_type": "markdown",
   "id": "b5439fda-136e-4f38-8a61-be63e8d8a015",
   "metadata": {},
   "source": [
    "### 1. Histogram of Age Distribution\n",
    "\n",
    "Understanding how age is distributed in the dataset is a key first step in exploring the demographic profile of bank clients. A histogram provides a visual summary of how frequently different age ranges appear in the data."
   ]
  },
  {
   "cell_type": "code",
   "execution_count": 46,
   "id": "e6ab98fc-4177-4fcf-829e-bc084d81d6a8",
   "metadata": {},
   "outputs": [],
   "source": [
    "# Histogram of Age Distribution bins=10\n"
   ]
  },
  {
   "cell_type": "markdown",
   "id": "a73f73d2-f183-42ed-a74b-6138eef8941c",
   "metadata": {},
   "source": [
    "### 2. Bar Chart: PEP Subscription Counts\n",
    "The Personal Equity Plan (PEP) column indicates whether each client has subscribed to a financial investment plan. This is a binary categorical variable (usually \"YES\" or \"NO\"), and understanding its distribution is important for future classification tasks."
   ]
  },
  {
   "cell_type": "code",
   "execution_count": 40,
   "id": "3f3646d5-a235-4c74-8a96-6e1f33a6c710",
   "metadata": {},
   "outputs": [
    {
     "data": {
      "image/png": "[encoded data removed]",
      "text/plain": [
       "<Figure size 432x288 with 1 Axes>"
      ]
     },
     "metadata": {
      "needs_background": "light"
     },
     "output_type": "display_data"
    }
   ],
   "source": [
    "import matplotlib.pyplot as plt\n",
    "\n",
    "df['pep'].value_counts().plot(kind='bar', color=['skyblue', 'orange'])\n",
    "plt.title('Personal Equity Plan (PEP) Subscription')\n",
    "plt.xlabel('PEP')\n",
    "plt.ylabel('Number of Clients')\n",
    "plt.xticks(rotation=0)\n",
    "plt.grid(axis='y', linestyle='--', alpha=0.7)\n",
    "plt.show()\n"
   ]
  },
  {
   "cell_type": "markdown",
   "id": "67a3fe43-7131-46cf-99fa-43f2d06ce8bc",
   "metadata": {},
   "source": [
    "### 3. Boxplot: Income by Region\n",
    "A boxplot shows how income is distributed across different geographic regions. This type of plot is especially useful for:\n",
    "- Comparing median incomes between regions\n",
    "- Identifying variability (spread) in income levels\n",
    "- Detecting outliers or unusually high/low incomes"
   ]
  },
  {
   "cell_type": "code",
   "execution_count": 41,
   "id": "3e922efd-2668-4566-88ed-31e7d0c7e1a2",
   "metadata": {},
   "outputs": [
    {
     "data": {
      "image/png": "[encoded data removed]",
      "text/plain": [
       "<Figure size 432x288 with 1 Axes>"
      ]
     },
     "metadata": {
      "needs_background": "light"
     },
     "output_type": "display_data"
    }
   ],
   "source": [
    "import seaborn as sns\n",
    "import matplotlib.pyplot as plt\n",
    "\n",
    "sns.boxplot(x='region', y='income', data=df)\n",
    "plt.title('Income Distribution by Region')\n",
    "plt.xlabel('Region')\n",
    "plt.ylabel('Income')\n",
    "plt.grid(axis='y', linestyle='--', alpha=0.7)\n",
    "plt.show()"
   ]
  },
  {
   "metadata": {},
   "cell_type": "code",
   "outputs": [],
   "execution_count": null,
   "source": "",
   "id": "f0e786b272105d8f"
  }
 ],
 "metadata": {
  "kernelspec": {
   "display_name": "Python 3 (ipykernel)",
   "language": "python",
   "name": "python3"
  },
  "language_info": {
   "codemirror_mode": {
    "name": "ipython",
    "version": 3
   },
   "file_extension": ".py",
   "mimetype": "text/x-python",
   "name": "python",
   "nbconvert_exporter": "python",
   "pygments_lexer": "ipython3",
   "version": "3.9.9"
  }
 },
 "nbformat": 4,
 "nbformat_minor": 5
}
