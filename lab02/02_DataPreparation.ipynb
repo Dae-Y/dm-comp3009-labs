{
 "cells": [
  {
   "cell_type": "markdown",
   "metadata": {
    "id": "4-DaMSaMbskG",
    "tags": []
   },
   "source": [
    "# COMP3006 Data Mining - Lab 2: Data Preparation\n",
    "\n",
    "In this practical we'll be using Python [Pandas](https://pandas.pydata.org) to explore and visualise some example data using [Jupyter Notebooks](jupyter.org) in [Google Colaboratory](colab.research.google.com).\n",
    "\n",
    "You only need to complete **Task 1** during the one-hour lab. The remaining tasks are highly recommended to be completed as self-practice after the lab."
   ]
  },
  {
   "cell_type": "markdown",
   "metadata": {
    "id": "0gSLFhVfswBj",
    "tags": []
   },
   "source": [
    "# Task 1: Titanic Dataset (titanic.csv)\n",
    "\n",
    "This week, we will be working with a **tabular dataset**: `titanic.csv`. You can access the dataset from one of the following sources:\n",
    "\n",
    "- **Blackboard**: Find it under the tutorial section and place it in the **same folder as your `.ipynb` notebook**.\n",
    "- **GitHub**: Load it directly from the following link:  \n",
    "  [https://raw.githubusercontent.com/PaulHancock/COMP5009_pracs/main/data/titanic.csv](https://raw.githubusercontent.com/PaulHancock/COMP5009_pracs/main/data/titanic.csv)\n",
    "\n",
    "We will use this dataset to practice data preparation techniques using **Pandas** in a Jupyter notebook.\n",
    "\n",
    "Complete the following tasks:\n",
    "1. Display the first 10 rows of the dataset.\n",
    "2. Examine the column names and content and determine an appropriate data type for each.\n",
    "    - Look at the data types used by pandas and comment on any differences\n",
    "3. Is the data multidimensional?  \n",
    "    - Find the number of attributes and the number of instances. \n",
    "4. For each attribute:\n",
    "    - check if there are any missing entries\n",
    "    - Find the min, max, avg, sum values if relevant \n",
    "    - Plot a histogram of the data\n",
    "5. Select all the passengers with \"Dr.\" in their name.\n",
    "    - Group these data by sex\n",
    "6. Compute the average fare grouped by class and embarkation port."
   ]
  },
  {
   "cell_type": "code",
   "execution_count": 2,
   "metadata": {
    "id": "d_CH1U5wuTSj"
   },
   "outputs": [],
   "source": [
    "# Load the modules that we'll be using\n",
    "import numpy as np\n",
    "import pandas as pd\n",
    "from matplotlib import pyplot as plt"
   ]
  },
  {
   "cell_type": "markdown",
   "metadata": {
    "id": "UGXB4LeyuhsX"
   },
   "source": [
    "### 1. Load the data\n",
    "Load the data into a pandas data frame"
   ]
  },
  {
   "cell_type": "code",
   "execution_count": 3,
   "metadata": {
    "id": "UnLqpWJAup6z"
   },
   "outputs": [],
   "source": [
    "# The data are hosted in github and we can load it directly from the URL\n",
    "data_url = 'https://raw.githubusercontent.com/PaulHancock/COMP5009_pracs/main/data/titanic.csv'\n",
    "df = pd.read_csv(data_url)"
   ]
  },
  {
   "cell_type": "code",
   "execution_count": 4,
   "metadata": {
    "id": "0tD4NxlKuzS1"
   },
   "outputs": [
    {
     "data": {
      "text/html": [
       "<div>\n",
       "<style scoped>\n",
       "    .dataframe tbody tr th:only-of-type {\n",
       "        vertical-align: middle;\n",
       "    }\n",
       "\n",
       "    .dataframe tbody tr th {\n",
       "        vertical-align: top;\n",
       "    }\n",
       "\n",
       "    .dataframe thead th {\n",
       "        text-align: right;\n",
       "    }\n",
       "</style>\n",
       "<table border=\"1\" class=\"dataframe\">\n",
       "  <thead>\n",
       "    <tr style=\"text-align: right;\">\n",
       "      <th></th>\n",
       "      <th>PassengerId</th>\n",
       "      <th>Survived</th>\n",
       "      <th>Pclass</th>\n",
       "      <th>Name</th>\n",
       "      <th>Sex</th>\n",
       "      <th>Age</th>\n",
       "      <th>SibSp</th>\n",
       "      <th>Parch</th>\n",
       "      <th>Ticket</th>\n",
       "      <th>Fare</th>\n",
       "      <th>Cabin</th>\n",
       "      <th>Embarked</th>\n",
       "    </tr>\n",
       "  </thead>\n",
       "  <tbody>\n",
       "    <tr>\n",
       "      <th>0</th>\n",
       "      <td>1</td>\n",
       "      <td>0</td>\n",
       "      <td>3</td>\n",
       "      <td>Braund, Mr. Owen Harris</td>\n",
       "      <td>male</td>\n",
       "      <td>22.0</td>\n",
       "      <td>1</td>\n",
       "      <td>0</td>\n",
       "      <td>A/5 21171</td>\n",
       "      <td>7.2500</td>\n",
       "      <td>NaN</td>\n",
       "      <td>S</td>\n",
       "    </tr>\n",
       "    <tr>\n",
       "      <th>1</th>\n",
       "      <td>2</td>\n",
       "      <td>1</td>\n",
       "      <td>1</td>\n",
       "      <td>Cumings, Mrs. John Bradley (Florence Briggs Th...</td>\n",
       "      <td>female</td>\n",
       "      <td>38.0</td>\n",
       "      <td>1</td>\n",
       "      <td>0</td>\n",
       "      <td>PC 17599</td>\n",
       "      <td>71.2833</td>\n",
       "      <td>C85</td>\n",
       "      <td>C</td>\n",
       "    </tr>\n",
       "    <tr>\n",
       "      <th>2</th>\n",
       "      <td>3</td>\n",
       "      <td>1</td>\n",
       "      <td>3</td>\n",
       "      <td>Heikkinen, Miss. Laina</td>\n",
       "      <td>female</td>\n",
       "      <td>26.0</td>\n",
       "      <td>0</td>\n",
       "      <td>0</td>\n",
       "      <td>STON/O2. 3101282</td>\n",
       "      <td>7.9250</td>\n",
       "      <td>NaN</td>\n",
       "      <td>S</td>\n",
       "    </tr>\n",
       "    <tr>\n",
       "      <th>3</th>\n",
       "      <td>4</td>\n",
       "      <td>1</td>\n",
       "      <td>1</td>\n",
       "      <td>Futrelle, Mrs. Jacques Heath (Lily May Peel)</td>\n",
       "      <td>female</td>\n",
       "      <td>35.0</td>\n",
       "      <td>1</td>\n",
       "      <td>0</td>\n",
       "      <td>113803</td>\n",
       "      <td>53.1000</td>\n",
       "      <td>C123</td>\n",
       "      <td>S</td>\n",
       "    </tr>\n",
       "    <tr>\n",
       "      <th>4</th>\n",
       "      <td>5</td>\n",
       "      <td>0</td>\n",
       "      <td>3</td>\n",
       "      <td>Allen, Mr. William Henry</td>\n",
       "      <td>male</td>\n",
       "      <td>35.0</td>\n",
       "      <td>0</td>\n",
       "      <td>0</td>\n",
       "      <td>373450</td>\n",
       "      <td>8.0500</td>\n",
       "      <td>NaN</td>\n",
       "      <td>S</td>\n",
       "    </tr>\n",
       "    <tr>\n",
       "      <th>...</th>\n",
       "      <td>...</td>\n",
       "      <td>...</td>\n",
       "      <td>...</td>\n",
       "      <td>...</td>\n",
       "      <td>...</td>\n",
       "      <td>...</td>\n",
       "      <td>...</td>\n",
       "      <td>...</td>\n",
       "      <td>...</td>\n",
       "      <td>...</td>\n",
       "      <td>...</td>\n",
       "      <td>...</td>\n",
       "    </tr>\n",
       "    <tr>\n",
       "      <th>886</th>\n",
       "      <td>887</td>\n",
       "      <td>0</td>\n",
       "      <td>2</td>\n",
       "      <td>Montvila, Rev. Juozas</td>\n",
       "      <td>male</td>\n",
       "      <td>27.0</td>\n",
       "      <td>0</td>\n",
       "      <td>0</td>\n",
       "      <td>211536</td>\n",
       "      <td>13.0000</td>\n",
       "      <td>NaN</td>\n",
       "      <td>S</td>\n",
       "    </tr>\n",
       "    <tr>\n",
       "      <th>887</th>\n",
       "      <td>888</td>\n",
       "      <td>1</td>\n",
       "      <td>1</td>\n",
       "      <td>Graham, Miss. Margaret Edith</td>\n",
       "      <td>female</td>\n",
       "      <td>19.0</td>\n",
       "      <td>0</td>\n",
       "      <td>0</td>\n",
       "      <td>112053</td>\n",
       "      <td>30.0000</td>\n",
       "      <td>B42</td>\n",
       "      <td>S</td>\n",
       "    </tr>\n",
       "    <tr>\n",
       "      <th>888</th>\n",
       "      <td>889</td>\n",
       "      <td>0</td>\n",
       "      <td>3</td>\n",
       "      <td>Johnston, Miss. Catherine Helen \"Carrie\"</td>\n",
       "      <td>female</td>\n",
       "      <td>NaN</td>\n",
       "      <td>1</td>\n",
       "      <td>2</td>\n",
       "      <td>W./C. 6607</td>\n",
       "      <td>23.4500</td>\n",
       "      <td>NaN</td>\n",
       "      <td>S</td>\n",
       "    </tr>\n",
       "    <tr>\n",
       "      <th>889</th>\n",
       "      <td>890</td>\n",
       "      <td>1</td>\n",
       "      <td>1</td>\n",
       "      <td>Behr, Mr. Karl Howell</td>\n",
       "      <td>male</td>\n",
       "      <td>26.0</td>\n",
       "      <td>0</td>\n",
       "      <td>0</td>\n",
       "      <td>111369</td>\n",
       "      <td>30.0000</td>\n",
       "      <td>C148</td>\n",
       "      <td>C</td>\n",
       "    </tr>\n",
       "    <tr>\n",
       "      <th>890</th>\n",
       "      <td>891</td>\n",
       "      <td>0</td>\n",
       "      <td>3</td>\n",
       "      <td>Dooley, Mr. Patrick</td>\n",
       "      <td>male</td>\n",
       "      <td>32.0</td>\n",
       "      <td>0</td>\n",
       "      <td>0</td>\n",
       "      <td>370376</td>\n",
       "      <td>7.7500</td>\n",
       "      <td>NaN</td>\n",
       "      <td>Q</td>\n",
       "    </tr>\n",
       "  </tbody>\n",
       "</table>\n",
       "<p>891 rows × 12 columns</p>\n",
       "</div>"
      ],
      "text/plain": [
       "     PassengerId  Survived  Pclass  \\\n",
       "0              1         0       3   \n",
       "1              2         1       1   \n",
       "2              3         1       3   \n",
       "3              4         1       1   \n",
       "4              5         0       3   \n",
       "..           ...       ...     ...   \n",
       "886          887         0       2   \n",
       "887          888         1       1   \n",
       "888          889         0       3   \n",
       "889          890         1       1   \n",
       "890          891         0       3   \n",
       "\n",
       "                                                  Name     Sex   Age  SibSp  \\\n",
       "0                              Braund, Mr. Owen Harris    male  22.0      1   \n",
       "1    Cumings, Mrs. John Bradley (Florence Briggs Th...  female  38.0      1   \n",
       "2                               Heikkinen, Miss. Laina  female  26.0      0   \n",
       "3         Futrelle, Mrs. Jacques Heath (Lily May Peel)  female  35.0      1   \n",
       "4                             Allen, Mr. William Henry    male  35.0      0   \n",
       "..                                                 ...     ...   ...    ...   \n",
       "886                              Montvila, Rev. Juozas    male  27.0      0   \n",
       "887                       Graham, Miss. Margaret Edith  female  19.0      0   \n",
       "888           Johnston, Miss. Catherine Helen \"Carrie\"  female   NaN      1   \n",
       "889                              Behr, Mr. Karl Howell    male  26.0      0   \n",
       "890                                Dooley, Mr. Patrick    male  32.0      0   \n",
       "\n",
       "     Parch            Ticket     Fare Cabin Embarked  \n",
       "0        0         A/5 21171   7.2500   NaN        S  \n",
       "1        0          PC 17599  71.2833   C85        C  \n",
       "2        0  STON/O2. 3101282   7.9250   NaN        S  \n",
       "3        0            113803  53.1000  C123        S  \n",
       "4        0            373450   8.0500   NaN        S  \n",
       "..     ...               ...      ...   ...      ...  \n",
       "886      0            211536  13.0000   NaN        S  \n",
       "887      0            112053  30.0000   B42        S  \n",
       "888      2        W./C. 6607  23.4500   NaN        S  \n",
       "889      0            111369  30.0000  C148        C  \n",
       "890      0            370376   7.7500   NaN        Q  \n",
       "\n",
       "[891 rows x 12 columns]"
      ]
     },
     "execution_count": 4,
     "metadata": {},
     "output_type": "execute_result"
    }
   ],
   "source": [
    "# view the loaded data to make sure that it makes sense\n",
    "df"
   ]
  },
  {
   "cell_type": "markdown",
   "metadata": {
    "id": "dhvuU7A7vJGP"
   },
   "source": [
    "### 2. Display the first 10 rows\n",
    "We can make use of the `.head()` method provided by the data frame.\n",
    "Try also:\n",
    "- df.head(5)\n",
    "- df.tail()"
   ]
  },
  {
   "cell_type": "code",
   "execution_count": 15,
   "metadata": {
    "id": "ZyuZh7F7vSE7"
   },
   "outputs": [],
   "source": [
    "# Your code"
   ]
  },
  {
   "cell_type": "markdown",
   "metadata": {
    "id": "DAD0VcVtvbok"
   },
   "source": [
    "### 3. Examine the data\n",
    "Examine the column names and content and determine an appropriate data type for each.\n",
    "  - Look at the data types used by pandas and comment on any differences"
   ]
  },
  {
   "cell_type": "code",
   "execution_count": 16,
   "metadata": {
    "id": "ru9bGw6-voCL"
   },
   "outputs": [],
   "source": [
    "# Your Code"
   ]
  },
  {
   "cell_type": "markdown",
   "metadata": {
    "id": "95gRWw6Nv274"
   },
   "source": [
    "### 4. Is the data multidimensional?  \n",
    "Find the number of attributes and the number of instances. "
   ]
  },
  {
   "cell_type": "code",
   "execution_count": 17,
   "metadata": {
    "id": "FyekfED4v5lw"
   },
   "outputs": [],
   "source": [
    "# Your Code"
   ]
  },
  {
   "cell_type": "markdown",
   "metadata": {
    "id": "JZw8ynBjwHqG"
   },
   "source": [
    "### 5. Summarise the data\n",
    "For each attribute:\n",
    "  - check if there are any missing entries\n",
    "  - Find the min, max, avg, sum values if relevant \n",
    "  - Plot a histogram of the data"
   ]
  },
  {
   "cell_type": "code",
   "execution_count": 18,
   "metadata": {
    "id": "mZLvw3uSv8D4"
   },
   "outputs": [],
   "source": [
    "# Your Code"
   ]
  },
  {
   "cell_type": "code",
   "execution_count": 9,
   "metadata": {
    "id": "rXEM4HsjwO9n"
   },
   "outputs": [
    {
     "data": {
      "text/plain": [
       "PassengerId    397386.0000\n",
       "Survived          342.0000\n",
       "Pclass           2057.0000\n",
       "Age             21205.1700\n",
       "SibSp             466.0000\n",
       "Parch             340.0000\n",
       "Fare            28693.9493\n",
       "dtype: float64"
      ]
     },
     "execution_count": 9,
     "metadata": {},
     "output_type": "execute_result"
    }
   ],
   "source": [
    "# if we run a funciton on the data frame it runs on ech column.\n",
    "# `numeric_only=True` means that we ignore the text columns\n",
    "df.sum(numeric_only=True)"
   ]
  },
  {
   "cell_type": "code",
   "execution_count": 10,
   "metadata": {
    "id": "rRzcxtUGwhl5"
   },
   "outputs": [
    {
     "data": {
      "image/png": "[encoded data removed]",
      "text/plain": [
       "<Figure size 1200x400 with 9 Axes>"
      ]
     },
     "metadata": {},
     "output_type": "display_data"
    }
   ],
   "source": [
    "# We can plot a histogram of all the data together\n",
    "df.hist(figsize=(12,4))\n",
    "plt.show()"
   ]
  },
  {
   "cell_type": "code",
   "execution_count": 11,
   "metadata": {
    "id": "TV-TcUw0xRnV"
   },
   "outputs": [
    {
     "data": {
      "image/png": "[encoded data removed]",
      "text/plain": [
       "<Figure size 640x480 with 1 Axes>"
      ]
     },
     "metadata": {},
     "output_type": "display_data"
    }
   ],
   "source": [
    "# or one by one\n",
    "df['Age'].hist()\n",
    "plt.show()"
   ]
  },
  {
   "cell_type": "markdown",
   "metadata": {
    "id": "zvl0bvJsxmOR"
   },
   "source": [
    "### 6. Find the doctors\n",
    "Select all the passengers with \"Dr.\" in their name.\n",
    "- Group these data by sex"
   ]
  },
  {
   "cell_type": "code",
   "execution_count": 13,
   "metadata": {
    "id": "Q9QtNhTLxp70"
   },
   "outputs": [
    {
     "name": "stdout",
     "output_type": "stream",
     "text": [
      "Sex\n",
      "female    1\n",
      "male      6\n",
      "Name: Name, dtype: int64\n"
     ]
    }
   ],
   "source": [
    "# Filter rows where the passenger's name contains the title 'Dr.'\n",
    "# The backslash before the dot is used to escape the special meaning of '.' in regex (regular expression)\n",
    "#### Your code\n",
    "\n",
    "# Apply the filter to get a new DataFrame of only passengers with 'Dr.' in their name\n",
    "#### Yor code \n",
    "\n",
    "# Group the doctors by 'Sex' and count the number of passengers in each group\n",
    "# We use .count() on a column that does not have missing values (like 'Name') to count the rows\n",
    "#### Your code \n",
    "\n",
    "# Display the result\n",
    "#### Your code"
   ]
  },
  {
   "cell_type": "markdown",
   "metadata": {
    "id": "19-b6IFUzMVY"
   },
   "source": [
    "### 7. Average fare\n",
    "Compute the average fare grouped by class and embarkation port."
   ]
  },
  {
   "cell_type": "code",
   "execution_count": 14,
   "metadata": {
    "id": "4Ljc8p2azQdn"
   },
   "outputs": [
    {
     "data": {
      "text/plain": [
       "Pclass  Embarked\n",
       "1       C           104.718529\n",
       "        Q            90.000000\n",
       "        S            70.364862\n",
       "2       C            25.358335\n",
       "        Q            12.350000\n",
       "        S            20.327439\n",
       "3       C            11.214083\n",
       "        Q            11.183393\n",
       "        S            14.644083\n",
       "Name: Fare, dtype: float64"
      ]
     },
     "execution_count": 14,
     "metadata": {},
     "output_type": "execute_result"
    }
   ],
   "source": [
    "# Remeber the ordering:\n",
    "# group, select columns, compute\n",
    "df.groupby(['Pclass','Embarked'])['Fare'].mean()"
   ]
  },
  {
   "cell_type": "markdown",
   "metadata": {
    "id": "cqWJd87HcgLF"
   },
   "source": [
    "# Task 2: Q3 from Chapter 2 of [Aggarwal](https://www.springer.com/gp/book/9783319141411)\n",
    "\n",
    "In this task, we will be working with the **Arrhythmia** dataset from the [UCI Machine Learning Repository](http://archive.ics.uci.edu/ml/datasets/arrhythmia).\n",
    "\n",
    "You can access the dataset `arrhythmia.data.with.header.csv` from one of the following sources:\n",
    "\n",
    "- **Blackboard**: Available under the tutorial section. Please place it in the **same folder as your `.ipynb` notebook**.\n",
    "- **GitHub**: Download directly from:  \n",
    "  [https://github.com/PaulHancock/COMP5009_pracs/blob/main/data/arrhythmia.data.with.header.csv](https://github.com/PaulHancock/COMP5009_pracs/blob/main/data/arrhythmia.data.with.header.csv)\n",
    "\n",
    "We will use this dataset to explore data quality issues and preprocessing steps, as described in **Question 3, Chapter 2 of Aggarwal**."
   ]
  },
  {
   "cell_type": "markdown",
   "metadata": {},
   "source": [
    "Use Pandas to load the data and complete the following tasks:\n",
    "1. **Normalization**: Scale all numerical attributes to have a mean of 0 and a standard deviation of 1.  \n",
    "2. **Discretization**:\n",
    "   - (a) Using **10 equi-width bins** (bins of equal range).\n",
    "   - (b) Using **10 equi-depth bins** (bins with equal number of data points).\n",
    "> Note: Ensure that any non-numerical or label columns are excluded from preprocessing."
   ]
  },
  {
   "cell_type": "markdown",
   "metadata": {
    "id": "Xl36oq-AesTg"
   },
   "source": [
    "### 1. Load the data\n",
    "Load the data into a pandas data frame, converting '?' into `NaN`\n"
   ]
  },
  {
   "cell_type": "code",
   "execution_count": 13,
   "metadata": {
    "id": "JWmUd1v4Klom"
   },
   "outputs": [
    {
     "name": "stdout",
     "output_type": "stream",
     "text": [
      "Shape: (452, 280)\n"
     ]
    },
    {
     "data": {
      "text/html": [
       "<div>\n",
       "<style scoped>\n",
       "    .dataframe tbody tr th:only-of-type {\n",
       "        vertical-align: middle;\n",
       "    }\n",
       "\n",
       "    .dataframe tbody tr th {\n",
       "        vertical-align: top;\n",
       "    }\n",
       "\n",
       "    .dataframe thead th {\n",
       "        text-align: right;\n",
       "    }\n",
       "</style>\n",
       "<table border=\"1\" class=\"dataframe\">\n",
       "  <thead>\n",
       "    <tr style=\"text-align: right;\">\n",
       "      <th></th>\n",
       "      <th>att1</th>\n",
       "      <th>att2</th>\n",
       "      <th>att3</th>\n",
       "      <th>att4</th>\n",
       "      <th>att5</th>\n",
       "      <th>att6</th>\n",
       "      <th>att7</th>\n",
       "      <th>att8</th>\n",
       "      <th>att9</th>\n",
       "      <th>att10</th>\n",
       "      <th>...</th>\n",
       "      <th>att271</th>\n",
       "      <th>att272</th>\n",
       "      <th>att273</th>\n",
       "      <th>att274</th>\n",
       "      <th>att275</th>\n",
       "      <th>att276</th>\n",
       "      <th>att277</th>\n",
       "      <th>att278</th>\n",
       "      <th>att279</th>\n",
       "      <th>att280</th>\n",
       "    </tr>\n",
       "  </thead>\n",
       "  <tbody>\n",
       "    <tr>\n",
       "      <th>0</th>\n",
       "      <td>75</td>\n",
       "      <td>0</td>\n",
       "      <td>190</td>\n",
       "      <td>80</td>\n",
       "      <td>91</td>\n",
       "      <td>193</td>\n",
       "      <td>371</td>\n",
       "      <td>174</td>\n",
       "      <td>121</td>\n",
       "      <td>-16</td>\n",
       "      <td>...</td>\n",
       "      <td>0.0</td>\n",
       "      <td>9.0</td>\n",
       "      <td>-0.9</td>\n",
       "      <td>0.0</td>\n",
       "      <td>0</td>\n",
       "      <td>0.9</td>\n",
       "      <td>2.9</td>\n",
       "      <td>23.3</td>\n",
       "      <td>49.4</td>\n",
       "      <td>8</td>\n",
       "    </tr>\n",
       "    <tr>\n",
       "      <th>1</th>\n",
       "      <td>56</td>\n",
       "      <td>1</td>\n",
       "      <td>165</td>\n",
       "      <td>64</td>\n",
       "      <td>81</td>\n",
       "      <td>174</td>\n",
       "      <td>401</td>\n",
       "      <td>149</td>\n",
       "      <td>39</td>\n",
       "      <td>25</td>\n",
       "      <td>...</td>\n",
       "      <td>0.0</td>\n",
       "      <td>8.5</td>\n",
       "      <td>0.0</td>\n",
       "      <td>0.0</td>\n",
       "      <td>0</td>\n",
       "      <td>0.2</td>\n",
       "      <td>2.1</td>\n",
       "      <td>20.4</td>\n",
       "      <td>38.8</td>\n",
       "      <td>6</td>\n",
       "    </tr>\n",
       "    <tr>\n",
       "      <th>2</th>\n",
       "      <td>54</td>\n",
       "      <td>0</td>\n",
       "      <td>172</td>\n",
       "      <td>95</td>\n",
       "      <td>138</td>\n",
       "      <td>163</td>\n",
       "      <td>386</td>\n",
       "      <td>185</td>\n",
       "      <td>102</td>\n",
       "      <td>96</td>\n",
       "      <td>...</td>\n",
       "      <td>0.0</td>\n",
       "      <td>9.5</td>\n",
       "      <td>-2.4</td>\n",
       "      <td>0.0</td>\n",
       "      <td>0</td>\n",
       "      <td>0.3</td>\n",
       "      <td>3.4</td>\n",
       "      <td>12.3</td>\n",
       "      <td>49.0</td>\n",
       "      <td>10</td>\n",
       "    </tr>\n",
       "    <tr>\n",
       "      <th>3</th>\n",
       "      <td>55</td>\n",
       "      <td>0</td>\n",
       "      <td>175</td>\n",
       "      <td>94</td>\n",
       "      <td>100</td>\n",
       "      <td>202</td>\n",
       "      <td>380</td>\n",
       "      <td>179</td>\n",
       "      <td>143</td>\n",
       "      <td>28</td>\n",
       "      <td>...</td>\n",
       "      <td>0.0</td>\n",
       "      <td>12.2</td>\n",
       "      <td>-2.2</td>\n",
       "      <td>0.0</td>\n",
       "      <td>0</td>\n",
       "      <td>0.4</td>\n",
       "      <td>2.6</td>\n",
       "      <td>34.6</td>\n",
       "      <td>61.6</td>\n",
       "      <td>1</td>\n",
       "    </tr>\n",
       "    <tr>\n",
       "      <th>4</th>\n",
       "      <td>75</td>\n",
       "      <td>0</td>\n",
       "      <td>190</td>\n",
       "      <td>80</td>\n",
       "      <td>88</td>\n",
       "      <td>181</td>\n",
       "      <td>360</td>\n",
       "      <td>177</td>\n",
       "      <td>103</td>\n",
       "      <td>-16</td>\n",
       "      <td>...</td>\n",
       "      <td>0.0</td>\n",
       "      <td>13.1</td>\n",
       "      <td>-3.6</td>\n",
       "      <td>0.0</td>\n",
       "      <td>0</td>\n",
       "      <td>-0.1</td>\n",
       "      <td>3.9</td>\n",
       "      <td>25.4</td>\n",
       "      <td>62.8</td>\n",
       "      <td>7</td>\n",
       "    </tr>\n",
       "  </tbody>\n",
       "</table>\n",
       "<p>5 rows × 280 columns</p>\n",
       "</div>"
      ],
      "text/plain": [
       "   att1  att2  att3  att4  att5  att6  att7  att8  att9  att10  ...  att271  \\\n",
       "0    75     0   190    80    91   193   371   174   121    -16  ...     0.0   \n",
       "1    56     1   165    64    81   174   401   149    39     25  ...     0.0   \n",
       "2    54     0   172    95   138   163   386   185   102     96  ...     0.0   \n",
       "3    55     0   175    94   100   202   380   179   143     28  ...     0.0   \n",
       "4    75     0   190    80    88   181   360   177   103    -16  ...     0.0   \n",
       "\n",
       "   att272  att273  att274  att275  att276  att277  att278  att279  att280  \n",
       "0     9.0    -0.9     0.0       0     0.9     2.9    23.3    49.4       8  \n",
       "1     8.5     0.0     0.0       0     0.2     2.1    20.4    38.8       6  \n",
       "2     9.5    -2.4     0.0       0     0.3     3.4    12.3    49.0      10  \n",
       "3    12.2    -2.2     0.0       0     0.4     2.6    34.6    61.6       1  \n",
       "4    13.1    -3.6     0.0       0    -0.1     3.9    25.4    62.8       7  \n",
       "\n",
       "[5 rows x 280 columns]"
      ]
     },
     "execution_count": 13,
     "metadata": {},
     "output_type": "execute_result"
    }
   ],
   "source": [
    "import pandas as pd\n",
    "\n",
    "# Load the dataset, treating '?' as missing values\n",
    "df = pd.read_csv('arrhythmia.data.with.header.csv', na_values='?')\n",
    "#data_url = 'https://raw.githubusercontent.com/PaulHancock/COMP5009_pracs/main/data/arrhythmia.data.with.header.csv'\n",
    "#df = pd.read_csv(data_url, na_values='?')\n",
    "\n",
    "# Preview the data\n",
    "print(\"Shape:\", df.shape)\n",
    "df.head()"
   ]
  },
  {
   "cell_type": "markdown",
   "metadata": {
    "id": "iFep6rzh122n"
   },
   "source": [
    "### 2. Remove Attributes with More Than 80% Missing Values\n",
    "\n",
    "In this step, we identify and remove any attributes (columns) where more than **80% of the entries are missing (`NaN`)**. These columns are unlikely to contribute meaningful information and may negatively impact analysis.\n",
    "\n",
    "We will preserve the original DataFrame `df` and create a cleaned version called `df_cleaned`."
   ]
  },
  {
   "cell_type": "code",
   "execution_count": 14,
   "metadata": {
    "id": "GdCzU_hqygp1"
   },
   "outputs": [
    {
     "name": "stdout",
     "output_type": "stream",
     "text": [
      "Columns with >80% missing values: ['att14']\n"
     ]
    }
   ],
   "source": [
    "# Define a function to find attributes with >80% missing data\n",
    "def gt80_missing(df):\n",
    "    '''\n",
    "    For each attribute (column) in the DataFrame `df`, count the percentage of missing entries.\n",
    "    Return a list of all columns with more than 80% missing values.\n",
    "    '''\n",
    "    missing_list = []\n",
    "    total_rows = df.shape[0]\n",
    "    \n",
    "    for column in df.columns:\n",
    "        missing_count = df[column].isna().sum()\n",
    "        missing_percent = (missing_count / total_rows) * 100\n",
    "        if missing_percent > 80:\n",
    "            missing_list.append(column)\n",
    "    \n",
    "    return missing_list\n",
    "\n",
    "# Run the function to get a list of sparse columns\n",
    "sparse_columns = gt80_missing(df)\n",
    "print(\"Columns with >80% missing values:\", sparse_columns)"
   ]
  },
  {
   "cell_type": "markdown",
   "metadata": {
    "id": "AO-If4uI2P94"
   },
   "source": [
    "Now that we’ve identified the sparse columns, we can remove them from the dataset using `df.drop()`."
   ]
  },
  {
   "cell_type": "code",
   "execution_count": 15,
   "metadata": {
    "id": "oD_4w27v2XZO"
   },
   "outputs": [
    {
     "name": "stdout",
     "output_type": "stream",
     "text": [
      "Original DataFrame columns: 280\n",
      "Cleaned DataFrame columns: 279\n"
     ]
    }
   ],
   "source": [
    "# Create a new DataFrame with those sparse columns removed\n",
    "df_cleaned = df.drop(columns=sparse_columns)\n",
    "\n",
    "# Confirm the number of columns before and after\n",
    "print(\"Original DataFrame columns:\", len(df.columns))\n",
    "print(\"Cleaned DataFrame columns:\", len(df_cleaned.columns))"
   ]
  },
  {
   "cell_type": "code",
   "execution_count": 16,
   "metadata": {},
   "outputs": [
    {
     "data": {
      "text/plain": [
       "Index(['att1', 'att2', 'att3', 'att4', 'att5', 'att6', 'att7', 'att8', 'att9',\n",
       "       'att10',\n",
       "       ...\n",
       "       'att271', 'att272', 'att273', 'att274', 'att275', 'att276', 'att277',\n",
       "       'att278', 'att279', 'att280'],\n",
       "      dtype='object', length=279)"
      ]
     },
     "execution_count": 16,
     "metadata": {},
     "output_type": "execute_result"
    }
   ],
   "source": [
    "# Optional: display updated column names if needed\n",
    "df_cleaned.columns"
   ]
  },
  {
   "cell_type": "markdown",
   "metadata": {
    "id": "DMXKr5aPC8oa"
   },
   "source": [
    "### 3. Detect and Remove Duplicate Rows\n",
    "\n",
    "In this step, we detect and remove **duplicate rows** in the dataset. Duplicate entries can occur due to data collection or merging issues and may bias data mining outcomes.\n",
    "\n",
    "We’ll:\n",
    "- Use `.duplicated()` to identify duplicate rows,\n",
    "- Display any duplicates found,\n",
    "- Use `.drop_duplicates()` to remove them (without modifying the original DataFrame)."
   ]
  },
  {
   "cell_type": "code",
   "execution_count": 17,
   "metadata": {
    "colab": {
     "base_uri": "https://localhost:8080/"
    },
    "id": "mNlxj3MlCr5J",
    "outputId": "58e075c0-80a0-4728-ce9c-0f5fadf94f88"
   },
   "outputs": [
    {
     "name": "stdout",
     "output_type": "stream",
     "text": [
      "No duplicate rows found.\n"
     ]
    }
   ],
   "source": [
    "# Step 1: Identify duplicate rows\n",
    "dups = df.duplicated()\n",
    "\n",
    "# Step 2: Show all duplicates (rows flagged as True)\n",
    "duplicate_rows = df[dups]\n",
    "\n",
    "if not duplicate_rows.empty:\n",
    "    print(f\"Found {duplicate_rows.shape[0]} duplicate rows.\")\n",
    "    display(duplicate_rows)\n",
    "else:\n",
    "    print(\"No duplicate rows found.\")"
   ]
  },
  {
   "cell_type": "code",
   "execution_count": 18,
   "metadata": {},
   "outputs": [
    {
     "name": "stdout",
     "output_type": "stream",
     "text": [
      "Original dataset shape: (452, 280)\n",
      "Shape after removing duplicates: (452, 280)\n"
     ]
    }
   ],
   "source": [
    "# Step 3: Remove duplicates, keeping the first occurrence only\n",
    "df_no_duplicates = df.drop_duplicates()\n",
    "\n",
    "# Step 4: Confirm shape before and after\n",
    "print(\"Original dataset shape:\", df.shape)\n",
    "print(\"Shape after removing duplicates:\", df_no_duplicates.shape)"
   ]
  },
  {
   "cell_type": "markdown",
   "metadata": {
    "id": "c6tWiY1m4qEe"
   },
   "source": [
    "### 4. Replace Missing Values (Low-Missing Attributes)\n",
    "\n",
    "In this step, we:\n",
    "\n",
    "1. Identify all attributes (columns) with **less than 5% missing values** (excluding columns with 0% missing).\n",
    "2. Replace missing values in those columns using:\n",
    "   - The **mean** for numeric attributes.\n",
    "   - The **mode** for categorical attributes."
   ]
  },
  {
   "cell_type": "code",
   "execution_count": 19,
   "metadata": {
    "id": "T6jbNsTG3mh6"
   },
   "outputs": [
    {
     "name": "stdout",
     "output_type": "stream",
     "text": [
      "Columns with <5% missing values: ['att11', 'att12', 'att13', 'att15']\n"
     ]
    }
   ],
   "source": [
    "# Function to find attributes with >0% and <5% missing values\n",
    "def lt5_missing(df):\n",
    "    \"\"\"\n",
    "    Return a list of all columns with less than 5% (but more than 0%) missing entries.\n",
    "    \"\"\"\n",
    "    missing_list = []\n",
    "    total_rows = df.shape[0]\n",
    "\n",
    "    for column in df.columns:\n",
    "        missing_count = df[column].isna().sum()\n",
    "        missing_percent = (missing_count / total_rows) * 100\n",
    "        if 0 < missing_percent < 5:\n",
    "            missing_list.append(column)\n",
    "    \n",
    "    return missing_list\n",
    "\n",
    "# Get list of low-missing columns\n",
    "low_missing_columns = lt5_missing(df)\n",
    "print(\"Columns with <5% missing values:\", low_missing_columns)"
   ]
  },
  {
   "cell_type": "markdown",
   "metadata": {
    "id": "AC1Bwv-444Ya"
   },
   "source": [
    "Look at the `fillna()` function for ways to replace the `NaN` values."
   ]
  },
  {
   "cell_type": "code",
   "execution_count": 20,
   "metadata": {
    "id": "M_gRPSCs5D7k"
   },
   "outputs": [
    {
     "name": "stdout",
     "output_type": "stream",
     "text": [
      "Filled missing values in att11 with mean: 36.15\n",
      "Filled missing values in att12 with mean: 48.91\n",
      "Filled missing values in att13 with mean: 36.72\n",
      "Filled missing values in att15 with mean: 74.46\n"
     ]
    }
   ],
   "source": [
    "for col in low_missing_columns:\n",
    "    if df[col].dtype == 'object':\n",
    "        # Use mode for categorical columns\n",
    "        mode_value = df[col].mode().iloc[0]\n",
    "        df[col] = df[col].fillna(mode_value)\n",
    "        print(f\"Filled missing values in {col} with mode: {mode_value}\")\n",
    "    else:\n",
    "        # Use mean for numeric columns\n",
    "        mean_value = df[col].mean()\n",
    "        df[col] = df[col].fillna(mean_value)\n",
    "        print(f\"Filled missing values in {col} with mean: {mean_value:.2f}\")"
   ]
  },
  {
   "cell_type": "markdown",
   "metadata": {
    "id": "bCZ7iOHp7cWb"
   },
   "source": [
    "### 5. Discretize Attributes (att3 and att4)\n",
    "\n",
    "In this step, we will:\n",
    "\n",
    "- Discretize `att3` into **10 equi-width bins**.\n",
    "- Discretize `att4` into **10 equi-depth (quantile) bins**.\n",
    "- Compare and comment on the interval structure in each case.\n",
    "\n",
    "We begin by checking basic statistics for these two attributes."
   ]
  },
  {
   "cell_type": "code",
   "execution_count": 21,
   "metadata": {
    "id": "9n1G4tXPBt7v"
   },
   "outputs": [
    {
     "data": {
      "text/html": [
       "<div>\n",
       "<style scoped>\n",
       "    .dataframe tbody tr th:only-of-type {\n",
       "        vertical-align: middle;\n",
       "    }\n",
       "\n",
       "    .dataframe tbody tr th {\n",
       "        vertical-align: top;\n",
       "    }\n",
       "\n",
       "    .dataframe thead th {\n",
       "        text-align: right;\n",
       "    }\n",
       "</style>\n",
       "<table border=\"1\" class=\"dataframe\">\n",
       "  <thead>\n",
       "    <tr style=\"text-align: right;\">\n",
       "      <th></th>\n",
       "      <th>att3</th>\n",
       "      <th>att4</th>\n",
       "    </tr>\n",
       "  </thead>\n",
       "  <tbody>\n",
       "    <tr>\n",
       "      <th>count</th>\n",
       "      <td>452.000000</td>\n",
       "      <td>452.000000</td>\n",
       "    </tr>\n",
       "    <tr>\n",
       "      <th>mean</th>\n",
       "      <td>166.188053</td>\n",
       "      <td>68.170354</td>\n",
       "    </tr>\n",
       "    <tr>\n",
       "      <th>std</th>\n",
       "      <td>37.170340</td>\n",
       "      <td>16.590803</td>\n",
       "    </tr>\n",
       "    <tr>\n",
       "      <th>min</th>\n",
       "      <td>105.000000</td>\n",
       "      <td>6.000000</td>\n",
       "    </tr>\n",
       "    <tr>\n",
       "      <th>25%</th>\n",
       "      <td>160.000000</td>\n",
       "      <td>59.000000</td>\n",
       "    </tr>\n",
       "    <tr>\n",
       "      <th>50%</th>\n",
       "      <td>164.000000</td>\n",
       "      <td>68.000000</td>\n",
       "    </tr>\n",
       "    <tr>\n",
       "      <th>75%</th>\n",
       "      <td>170.000000</td>\n",
       "      <td>79.000000</td>\n",
       "    </tr>\n",
       "    <tr>\n",
       "      <th>max</th>\n",
       "      <td>780.000000</td>\n",
       "      <td>176.000000</td>\n",
       "    </tr>\n",
       "  </tbody>\n",
       "</table>\n",
       "</div>"
      ],
      "text/plain": [
       "             att3        att4\n",
       "count  452.000000  452.000000\n",
       "mean   166.188053   68.170354\n",
       "std     37.170340   16.590803\n",
       "min    105.000000    6.000000\n",
       "25%    160.000000   59.000000\n",
       "50%    164.000000   68.000000\n",
       "75%    170.000000   79.000000\n",
       "max    780.000000  176.000000"
      ]
     },
     "execution_count": 21,
     "metadata": {},
     "output_type": "execute_result"
    }
   ],
   "source": [
    "# Step 1: Summary statistics\n",
    "df[['att3', 'att4']].describe()"
   ]
  },
  {
   "cell_type": "markdown",
   "metadata": {
    "id": "8WHJLyaJ7mYR"
   },
   "source": [
    "#### a. Equi-width Binning (att3)\n",
    "\n",
    "We use `pd.cut()` to split the range of `att3` into 10 intervals of equal width."
   ]
  },
  {
   "cell_type": "code",
   "execution_count": 22,
   "metadata": {
    "id": "pMfDr4755FhV"
   },
   "outputs": [
    {
     "name": "stdout",
     "output_type": "stream",
     "text": [
      "Equi-width Bins (att3):\n",
      "att3\n",
      "(104.325, 172.5]    376\n",
      "(172.5, 240.0]       74\n",
      "(240.0, 307.5]        0\n",
      "(307.5, 375.0]        0\n",
      "(375.0, 442.5]        0\n",
      "(442.5, 510.0]        0\n",
      "(510.0, 577.5]        0\n",
      "(577.5, 645.0]        1\n",
      "(645.0, 712.5]        0\n",
      "(712.5, 780.0]        1\n",
      "Name: count, dtype: int64\n",
      "\n",
      "Bin edges:\n",
      "IntervalIndex([(104.325, 172.5],   (172.5, 240.0],   (240.0, 307.5],\n",
      "                 (307.5, 375.0],   (375.0, 442.5],   (442.5, 510.0],\n",
      "                 (510.0, 577.5],   (577.5, 645.0],   (645.0, 712.5],\n",
      "                 (712.5, 780.0]],\n",
      "              dtype='interval[float64, right]')\n"
     ]
    },
    {
     "data": {
      "image/png": "[encoded data removed]",
      "text/plain": [
       "<Figure size 640x480 with 1 Axes>"
      ]
     },
     "metadata": {},
     "output_type": "display_data"
    }
   ],
   "source": [
    "import pandas as pd\n",
    "import matplotlib.pyplot as plt\n",
    "\n",
    "# Equi-width binning for att3\n",
    "equi_width_bins = pd.cut(df['att3'], bins=10)\n",
    "\n",
    "# Count how many entries fall into each bin\n",
    "print(\"Equi-width Bins (att3):\")\n",
    "print(equi_width_bins.value_counts(sort=False))\n",
    "\n",
    "# View the bin edges\n",
    "print(\"\\nBin edges:\")\n",
    "print(equi_width_bins.cat.categories)\n",
    "\n",
    "# Save results for reuse\n",
    "att3_10_equi_width = equi_width_bins\n",
    "\n",
    "# Plot histogram\n",
    "att3_10_equi_width.value_counts(sort=False).plot(kind='bar', title='att3 - 10 Equi-width Bins')\n",
    "plt.ylabel(\"Frequency\")\n",
    "plt.xlabel(\"Bin Range\")\n",
    "plt.xticks(rotation=45)\n",
    "plt.tight_layout()\n",
    "plt.show()"
   ]
  },
  {
   "cell_type": "markdown",
   "metadata": {
    "id": "jYvxhcfZ7yaM"
   },
   "source": [
    "#### b. Equi-depth Binning (att4)\n",
    "\n",
    "We use `pd.qcut()` to create bins such that each bin has approximately the same number of data points."
   ]
  },
  {
   "cell_type": "code",
   "execution_count": 23,
   "metadata": {
    "id": "2YmFp76H-BDJ"
   },
   "outputs": [
    {
     "name": "stdout",
     "output_type": "stream",
     "text": [
      "Equi-depth Bins (att4):\n",
      "att4\n",
      "(5.999, 52.0]    52\n",
      "(52.0, 56.0]     42\n",
      "(56.0, 60.0]     43\n",
      "(60.0, 65.0]     65\n",
      "(65.0, 68.0]     29\n",
      "(68.0, 72.0]     49\n",
      "(72.0, 75.0]     38\n",
      "(75.0, 80.0]     54\n",
      "(80.0, 86.0]     36\n",
      "(86.0, 176.0]    44\n",
      "Name: count, dtype: int64\n",
      "\n",
      "Bin edges:\n",
      "IntervalIndex([(5.999, 52.0],  (52.0, 56.0],  (56.0, 60.0],  (60.0, 65.0],\n",
      "                (65.0, 68.0],  (68.0, 72.0],  (72.0, 75.0],  (75.0, 80.0],\n",
      "                (80.0, 86.0], (86.0, 176.0]],\n",
      "              dtype='interval[float64, right]')\n"
     ]
    },
    {
     "data": {
      "image/png": "[encoded data removed]",
      "text/plain": [
       "<Figure size 640x480 with 1 Axes>"
      ]
     },
     "metadata": {},
     "output_type": "display_data"
    }
   ],
   "source": [
    "# Equi-depth binning for att4\n",
    "equi_depth_bins = pd.qcut(df['att4'], q=10, duplicates='drop')\n",
    "\n",
    "# Count how many entries fall into each bin\n",
    "print(\"Equi-depth Bins (att4):\")\n",
    "print(equi_depth_bins.value_counts(sort=False))\n",
    "\n",
    "# View the bin edges\n",
    "print(\"\\nBin edges:\")\n",
    "print(equi_depth_bins.cat.categories)\n",
    "\n",
    "# Save results for reuse\n",
    "att4_10_equi_depth = equi_depth_bins\n",
    "\n",
    "# Plot histogram\n",
    "att4_10_equi_depth.value_counts(sort=False).plot(kind='bar', title='att4 - 10 Equi-depth Bins')\n",
    "plt.ylabel(\"Frequency\")\n",
    "plt.xlabel(\"Bin Range\")\n",
    "plt.xticks(rotation=45)\n",
    "plt.tight_layout()\n",
    "plt.show()"
   ]
  },
  {
   "cell_type": "markdown",
   "metadata": {
    "id": "SrHTWTDaCH4K"
   },
   "source": [
    "### 6. Standardize Numeric Attributes\n",
    "\n",
    "In this step, we scale all **numeric attributes** so that each column has:\n",
    "- **Mean = 0**\n",
    "- **Standard deviation = 1**\n",
    "\n",
    "This is often called **Z-score normalization** and is important when:\n",
    "- Attributes are measured on different scales.\n",
    "- We use distance-based methods (e.g. k-NN, clustering).\n",
    "\n",
    "We will:\n",
    "1. Identify all numeric columns.\n",
    "2. Standardize them using `(x - mean) / std`.\n",
    "3. Save the result as a new DataFrame."
   ]
  },
  {
   "cell_type": "code",
   "execution_count": 24,
   "metadata": {
    "id": "MBE3LQQICOCi"
   },
   "outputs": [
    {
     "name": "stdout",
     "output_type": "stream",
     "text": [
      "Numeric columns to be standardized: ['att1', 'att2', 'att3', 'att4', 'att5', 'att6', 'att7', 'att8', 'att9', 'att10', 'att11', 'att12', 'att13', 'att14', 'att15', 'att16', 'att17', 'att18', 'att19', 'att20', 'att21', 'att22', 'att23', 'att24', 'att25', 'att26', 'att27', 'att28', 'att29', 'att30', 'att31', 'att32', 'att33', 'att34', 'att35', 'att36', 'att37', 'att38', 'att39', 'att40', 'att41', 'att42', 'att43', 'att44', 'att45', 'att46', 'att47', 'att48', 'att49', 'att50', 'att51', 'att52', 'att53', 'att54', 'att55', 'att56', 'att57', 'att58', 'att59', 'att60', 'att61', 'att62', 'att63', 'att64', 'att65', 'att66', 'att67', 'att68', 'att69', 'att70', 'att71', 'att72', 'att73', 'att74', 'att75', 'att76', 'att77', 'att78', 'att79', 'att80', 'att81', 'att82', 'att83', 'att84', 'att85', 'att86', 'att87', 'att88', 'att89', 'att90', 'att91', 'att92', 'att93', 'att94', 'att95', 'att96', 'att97', 'att98', 'att99', 'att100', 'att101', 'att102', 'att103', 'att104', 'att105', 'att106', 'att107', 'att108', 'att109', 'att110', 'att111', 'att112', 'att113', 'att114', 'att115', 'att116', 'att117', 'att118', 'att119', 'att120', 'att121', 'att122', 'att123', 'att124', 'att125', 'att126', 'att127', 'att128', 'att129', 'att130', 'att131', 'att132', 'att133', 'att134', 'att135', 'att136', 'att137', 'att138', 'att139', 'att140', 'att141', 'att142', 'att143', 'att144', 'att145', 'att146', 'att147', 'att148', 'att149', 'att150', 'att151', 'att152', 'att153', 'att154', 'att155', 'att156', 'att157', 'att158', 'att159', 'att160', 'att161', 'att162', 'att163', 'att164', 'att165', 'att166', 'att167', 'att168', 'att169', 'att170', 'att171', 'att172', 'att173', 'att174', 'att175', 'att176', 'att177', 'att178', 'att179', 'att180', 'att181', 'att182', 'att183', 'att184', 'att185', 'att186', 'att187', 'att188', 'att189', 'att190', 'att191', 'att192', 'att193', 'att194', 'att195', 'att196', 'att197', 'att198', 'att199', 'att200', 'att201', 'att202', 'att203', 'att204', 'att205', 'att206', 'att207', 'att208', 'att209', 'att210', 'att211', 'att212', 'att213', 'att214', 'att215', 'att216', 'att217', 'att218', 'att219', 'att220', 'att221', 'att222', 'att223', 'att224', 'att225', 'att226', 'att227', 'att228', 'att229', 'att230', 'att231', 'att232', 'att233', 'att234', 'att235', 'att236', 'att237', 'att238', 'att239', 'att240', 'att241', 'att242', 'att243', 'att244', 'att245', 'att246', 'att247', 'att248', 'att249', 'att250', 'att251', 'att252', 'att253', 'att254', 'att255', 'att256', 'att257', 'att258', 'att259', 'att260', 'att261', 'att262', 'att263', 'att264', 'att265', 'att266', 'att267', 'att268', 'att269', 'att270', 'att271', 'att272', 'att273', 'att274', 'att275', 'att276', 'att277', 'att278', 'att279', 'att280']\n",
      "\n",
      "Means after standardization (should be ~0):\n",
      "att1     -0.0\n",
      "att2     -0.0\n",
      "att3      0.0\n",
      "att4      0.0\n",
      "att5      0.0\n",
      "         ... \n",
      "att276    0.0\n",
      "att277    0.0\n",
      "att278   -0.0\n",
      "att279    0.0\n",
      "att280    0.0\n",
      "Length: 280, dtype: float64\n",
      "\n",
      "Standard deviations after standardization (should be ~1):\n",
      "att1      1.0\n",
      "att2      1.0\n",
      "att3      1.0\n",
      "att4      1.0\n",
      "att5      1.0\n",
      "         ... \n",
      "att276    1.0\n",
      "att277    1.0\n",
      "att278    1.0\n",
      "att279    1.0\n",
      "att280    1.0\n",
      "Length: 280, dtype: float64\n"
     ]
    }
   ],
   "source": [
    "import pandas as pd\n",
    "\n",
    "# Step 1: Identify numeric columns only\n",
    "numeric_cols = df.select_dtypes(include='number').columns\n",
    "print(\"Numeric columns to be standardized:\", list(numeric_cols))\n",
    "\n",
    "# Step 2: Apply Z-score normalization\n",
    "df_standardized = df.copy()\n",
    "df_standardized[numeric_cols] = (df[numeric_cols] - df[numeric_cols].mean()) / df[numeric_cols].std()\n",
    "\n",
    "# Step 3: Verify standardization\n",
    "print(\"\\nMeans after standardization (should be ~0):\")\n",
    "print(df_standardized[numeric_cols].mean().round(2))\n",
    "\n",
    "print(\"\\nStandard deviations after standardization (should be ~1):\")\n",
    "print(df_standardized[numeric_cols].std().round(2))\n"
   ]
  },
  {
   "cell_type": "markdown",
   "metadata": {
    "id": "MmRVqFBhEfFK"
   },
   "source": [
    "### 7. Random Sampling and Save to CSV\n",
    "\n",
    "In this task, we:\n",
    "\n",
    "1. Randomly sample 100 instances from the dataset for the **test set**.\n",
    "2. Assign the remaining instances to the **train set**.\n",
    "3. Save both splits as CSV files:\n",
    "   - `arrythmia_train.csv`\n",
    "   - `arrythmia_test.csv`\n",
    "\n",
    "This approach is useful for creating reusable training and testing datasets for data mining experiments."
   ]
  },
  {
   "cell_type": "code",
   "execution_count": 25,
   "metadata": {
    "id": "ptjt9xWj5pMB"
   },
   "outputs": [
    {
     "name": "stdout",
     "output_type": "stream",
     "text": [
      "Train and test CSV files have been saved.\n"
     ]
    }
   ],
   "source": [
    "import pandas as pd\n",
    "\n",
    "# Step 1: Randomly sample 100 rows for the test set\n",
    "test = df.sample(n=100, random_state=42)  # Fixed seed for reproducibility\n",
    "\n",
    "# Step 2: Drop test indices to create the train set\n",
    "train = df.drop(test.index)\n",
    "\n",
    "# Step 3: Save both splits to separate CSV files\n",
    "test.to_csv('arrythmia_test.csv', index=False)\n",
    "train.to_csv('arrythmia_train.csv', index=False)\n",
    "\n",
    "# Step 4: Confirm file creation\n",
    "print(\"Train and test CSV files have been saved.\")\n"
   ]
  },
  {
   "cell_type": "markdown",
   "metadata": {
    "id": "zIH1yANcIdr-"
   },
   "source": [
    "# Task 3: Q13 from Chapter 3 of [Aggarwal](https://www.springer.com/gp/book/9783319141411)\n",
    "\n",
    "In this task, you will explore how the sample mean of an attribute approaches the population mean as the sample size increases. This analysis will help you understand the statistical principle of convergence through random sampling and z-score evaluation. You will use the **modified KDD Cup 1999 dataset** in `.arff` format:\n",
    "\n",
    "- **Blackboard**: Available under the tutorial section. Please place the file in the same folder as your `.ipynb` notebook.\n",
    "- **GitHub**: Download directly from  \n",
    "  [kddcup99.arff](https://raw.githubusercontent.com/PaulHancock/COMP5009_pracs/main/data/kddcup99.arff)"
   ]
  },
  {
   "cell_type": "markdown",
   "metadata": {},
   "source": [
    "## Step 1: Load the Data and Compute Population Statistics\n",
    "- Load the dataset using `scipy.io.arff.loadarff()`."
   ]
  },
  {
   "cell_type": "code",
   "execution_count": 26,
   "metadata": {},
   "outputs": [],
   "source": [
    "import pandas as pd\n",
    "import numpy as np\n",
    "from scipy.io import arff\n",
    "import urllib.request\n",
    "import matplotlib.pyplot as plt\n",
    "\n",
    "# Step 1: We first download the KDD Cup 1999 dataset from GitHub and load it into a Pandas DataFrame.\n",
    "url = 'https://raw.githubusercontent.com/PaulHancock/COMP5009_pracs/main/data/kddcup99.arff'\n",
    "file_name = 'kddcup99.arff'\n",
    "urllib.request.urlretrieve(url, file_name)\n",
    "\n",
    "# Load the ARFF file\n",
    "data = arff.loadarff(file_name)\n",
    "df = pd.DataFrame(data[0])\n",
    "\n",
    "# Convert byte string columns to normal strings where applicable\n",
    "df = df.map(lambda x: x.decode('utf-8') if isinstance(x, bytes) else x)"
   ]
  },
  {
   "cell_type": "markdown",
   "metadata": {},
   "source": [
    "### Step 2: Compute Population Mean (μ) and Standard Deviation (σ)\n",
    "\n",
    "We compute the **population statistics** of the `count` attribute using the **first 10,000 samples** of the dataset.\n",
    "\n",
    "These statistics will be used to evaluate how close our randomly sampled means are to the true population mean."
   ]
  },
  {
   "cell_type": "code",
   "execution_count": 27,
   "metadata": {},
   "outputs": [
    {
     "name": "stdout",
     "output_type": "stream",
     "text": [
      "Population mean (μ): 332.76\n",
      "Population std deviation (σ): 213.39\n"
     ]
    }
   ],
   "source": [
    "# Convert 'count' to numeric if not already\n",
    "df[\"count\"] = pd.to_numeric(df[\"count\"])\n",
    "\n",
    "# Take first 10,000 samples\n",
    "sample_data = df[\"count\"][:10000]\n",
    "\n",
    "# Compute population mean and standard deviation\n",
    "mu = sample_data.mean()\n",
    "sigma = sample_data.std()\n",
    "\n",
    "print(f\"Population mean (μ): {mu:.2f}\")\n",
    "print(f\"Population std deviation (σ): {sigma:.2f}\")"
   ]
  },
  {
   "cell_type": "markdown",
   "metadata": {},
   "source": [
    "### Step 3: Random Sampling and Average z-score Computation\n",
    "\n",
    "In this step, we investigate how well the **sample mean** of the `count` attribute estimates the **true population mean** as sample size increases. We use the **z-score** to measure this deviation:\n",
    "\n",
    "$z_n=\\frac{|e_n-\\mu|}{\\sigma}$\n",
    "\n",
    "Where:\n",
    "- $( e_n $) is the mean of a sample of size \\( n \\),\n",
    "- $( \\mu $) is the population mean (computed from 10,000 samples),\n",
    "- $( \\sigma $) is the population standard deviation,\n",
    "- $( z_n $) is the normalized deviation of the sample mean from the true mean.\n",
    "\n",
    "#### Repeated Sampling\n",
    "For each sample size `10, 20, 50, 100, 200, 500, 1000, 2000, 5000, 10000`:\n",
    "- Draw 10 random samples of size $( n $) from the data.\n",
    "- Compute the sample mean $( e_n $) for each.\n",
    "- Calculate the corresponding $( z_n $).\n",
    "- Take the average z-score $( \\bar{z}_n $) over the 10 trials."
   ]
  },
  {
   "cell_type": "code",
   "execution_count": 28,
   "metadata": {},
   "outputs": [],
   "source": [
    "# Define sample sizes\n",
    "sample_sizes = [10, 20, 50, 100, 200, 500, 1000, 2000, 5000, 10000]\n",
    "average_zn = []\n",
    "\n",
    "# Loop through each sample size\n",
    "for n in sample_sizes:\n",
    "    z_values = []\n",
    "    for _ in range(10):\n",
    "        sample = sample_data.sample(n=n, replace=False, random_state=np.random.randint(10000))\n",
    "        en = sample.mean()\n",
    "        zn = abs(en - mu) / sigma\n",
    "        z_values.append(zn)\n",
    "    average_zn.append(np.mean(z_values))"
   ]
  },
  {
   "cell_type": "markdown",
   "metadata": {},
   "source": [
    "### Step 4: Plot the Results\n",
    "- Plot a graph of $\\bar{z}_n$ versus `n`.\n",
    "- Use a log scale for the X-axis (sample size).\n",
    "- Label axes clearly:\n",
    "  - X-axis: Sample size `n`\n",
    "  - Y-axis: Average z-score $\\bar{z}_n$"
   ]
  },
  {
   "cell_type": "code",
   "execution_count": 29,
   "metadata": {},
   "outputs": [
    {
     "data": {
      "image/png": "[encoded data removed]",
      "text/plain": [
       "<Figure size 1000x600 with 1 Axes>"
      ]
     },
     "metadata": {},
     "output_type": "display_data"
    }
   ],
   "source": [
    "# Step 4: Plot the results\n",
    "plt.figure(figsize=(10, 6))\n",
    "plt.plot(sample_sizes, average_zn, marker='o')\n",
    "plt.xscale('log')\n",
    "plt.xlabel('Sample Size (n)')\n",
    "plt.ylabel('Average z-score (ẑₙ)')\n",
    "plt.title('Average z-score vs Sample Size')\n",
    "plt.grid(True)\n",
    "plt.tight_layout()\n",
    "plt.show()"
   ]
  },
  {
   "cell_type": "markdown",
   "metadata": {},
   "source": [
    "### Step 5: Interpretation Questions\n",
    "\n",
    "After plotting $\\bar{z}_n$ versus sample size $n$, reflect on the following:\n",
    "\n",
    "- **What trend do you observe as the sample size increases?**  \n",
    "As the sample size increases, the average z-score ($\\bar{z}_n$) consistently decreases. For very small sample sizes (e.g., $n = 10$ or $n = 20$), the z-scores are relatively high, indicating that the sample means can deviate significantly from the true mean. As $n$ grows, the deviations become smaller, and the z-scores approach zero.\n",
    "\n",
    "- **Why is the z-score a useful metric in this context?**  \n",
    "The z-score is useful because it provides a normalized measure of deviation that is independent of the scale of the data. By expressing the difference between the sample mean and population mean in units of standard deviation, it allows us to assess how \"unusual\" the sample mean is — regardless of the raw scale of the count attribute. This makes it ideal for comparing deviations across different sample sizes.\n"
   ]
  }
 ],
 "metadata": {
  "colab": {
   "collapsed_sections": [
    "cqWJd87HcgLF",
    "zIH1yANcIdr-",
    "IPg_AA3-xrYE",
    "T6X0Faqos8kk",
    "oVEIuyqlthfI",
    "QAxORIq0xCrW"
   ],
   "name": "Copy of 02_DataPreparation.ipynb",
   "provenance": []
  },
  "kernelspec": {
   "display_name": "Python (PINN)",
   "language": "python",
   "name": "pinn"
  },
  "language_info": {
   "codemirror_mode": {
    "name": "ipython",
    "version": 3
   },
   "file_extension": ".py",
   "mimetype": "text/x-python",
   "name": "python",
   "nbconvert_exporter": "python",
   "pygments_lexer": "ipython3",
   "version": "3.10.18"
  }
 },
 "nbformat": 4,
 "nbformat_minor": 4
}
